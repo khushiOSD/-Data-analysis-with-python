{
 "cells": [
  {
   "cell_type": "code",
   "execution_count": 1,
   "id": "039db99f-6205-45fe-8c36-afd3d23be1fe",
   "metadata": {},
   "outputs": [
    {
     "name": "stdout",
     "output_type": "stream",
     "text": [
      "Hello World Python Programming\n"
     ]
    }
   ],
   "source": [
    "#1.Write a function that takes a sentence as an input parameter and replaces the first letter of every word with the corresponding uppercase letter and the rest lowarcase without using build in function.v\n",
    "\n",
    "def capitalize_words(sentence):\n",
    "  words=sentence.split()\n",
    "  result = []\n",
    "  for word in words:\n",
    "    capitalized_word=word[0].upper() +word[1:].lower()\n",
    "    result.append(capitalized_word)\n",
    "  return ' '.join(result)\n",
    "\n",
    "print(capitalize_words(\"hello world python programming\"))\n",
    "      "
   ]
  },
  {
   "cell_type": "code",
   "execution_count": 30,
   "id": "f98ce328-8b13-4e25-9d28-976d6e69e040",
   "metadata": {},
   "outputs": [
    {
     "name": "stdin",
     "output_type": "stream",
     "text": [
      "Enter a string:  hello how are you\n"
     ]
    },
    {
     "name": "stdout",
     "output_type": "stream",
     "text": [
      "Number of vowels: 7\n"
     ]
    }
   ],
   "source": [
    "#2.Count the number of vowels in a string\n",
    "def count_vowels(string):\n",
    "    vowels = \"aeiouAEIOU\"   \n",
    "    count = 0               \n",
    "    for char in string:     \n",
    "        if char in vowels: \n",
    "            count += 1      \n",
    "    return count       \n",
    "\n",
    "input_string = input(\"Enter a string\")\n",
    "print(\"Number of vowels:\", count_vowels(input_string))"
   ]
  },
  {
   "cell_type": "code",
   "execution_count": 36,
   "id": "e72a8714-010d-4bbd-90b3-8ba7da0e9d7d",
   "metadata": {},
   "outputs": [
    {
     "name": "stdin",
     "output_type": "stream",
     "text": [
      "Enter your marks:  87\n"
     ]
    },
    {
     "name": "stdout",
     "output_type": "stream",
     "text": [
      "Grade: B\n"
     ]
    }
   ],
   "source": [
    "#3.Write a program thar simulates a grading system:\n",
    "i.If marks>=90: Grade A\n",
    "ii.If marks>=74: Grade B\n",
    "iii.If marks>=60:Grade C\n",
    "iv. Else: Grade F\n",
    "\n",
    "marks = int(input(\"Enter your marks: \"))\n",
    "if marks >= 90:\n",
    "    print(\"Grade: A\")\n",
    "elif marks >= 75:\n",
    "    print(\"Grade: B\")\n",
    "elif marks >= 60:\n",
    "    print(\"Grade: C\")\n",
    "else:\n",
    "    print(\"Grade: F\")"
   ]
  },
  {
   "cell_type": "code",
   "execution_count": 75,
   "id": "cd90a7a3-bfeb-405c-bc15-1f1ba1b75fdb",
   "metadata": {},
   "outputs": [
    {
     "name": "stdout",
     "output_type": "stream",
     "text": [
      "2\n",
      "3\n",
      "5\n",
      "7\n",
      "11\n",
      "13\n",
      "17\n",
      "19\n",
      "23\n",
      "29\n",
      "31\n",
      "37\n",
      "41\n",
      "43\n",
      "47\n",
      "53\n",
      "59\n",
      "61\n",
      "67\n",
      "71\n",
      "73\n",
      "79\n",
      "83\n",
      "89\n",
      "97\n"
     ]
    }
   ],
   "source": [
    "#4.How do you use a for loop to print all prime numbers between 1 and 100.\n",
    "\n",
    "for num in range(2, 101):\n",
    "    is_prime = True  \n",
    "    for i in range(2, int(num**0.5) + 1):  \n",
    "        if num % i == 0:\n",
    "            is_prime = False\n",
    "            break   \n",
    "    if is_prime:\n",
    "        print(num)"
   ]
  },
  {
   "cell_type": "code",
   "execution_count": 79,
   "id": "de0a86db-0fcd-494a-ba7a-554e8473a3cd",
   "metadata": {},
   "outputs": [
    {
     "name": "stdin",
     "output_type": "stream",
     "text": [
      "Enter number of rows:  5\n"
     ]
    },
    {
     "name": "stdout",
     "output_type": "stream",
     "text": [
      "    1 \n",
      "   1 1 \n",
      "  1 2 1 \n",
      " 1 3 3 1 \n",
      "1 4 6 4 1 \n"
     ]
    }
   ],
   "source": [
    "#5.How do you use nested loops to generate Pascals Triangle  up to n  rows?\n",
    "\n",
    "n = int(input(\"Enter number of rows: \"))\n",
    "\n",
    "for i in range(n):\n",
    "    for j in range(n - i - 1):\n",
    "        print(\" \", end=\"\")\n",
    "\n",
    "    num = 1\n",
    "    for k in range(i + 1):\n",
    "        print(num, end=\" \")\n",
    "\n",
    "        num = num * (i - k) // (k + 1)\n",
    "    print()  "
   ]
  },
  {
   "cell_type": "code",
   "execution_count": 5,
   "id": "46a6491e-e9d0-4f36-a13b-121b1f798b88",
   "metadata": {},
   "outputs": [
    {
     "name": "stdout",
     "output_type": "stream",
     "text": [
      "[[19, 22], [43, 50]]\n"
     ]
    }
   ],
   "source": [
    "#6.Write a python program to perform multiplication of two square matrices\n",
    "\n",
    "def multiply_matrices(A,B):\n",
    " n = len(A)\n",
    " result = [[0]*n for _ in range(n)]\n",
    " for i in range(n):\n",
    "    for j in range(n):\n",
    "         for k in range(n):\n",
    "            result[i][j] += A[i][k] * B[k][j]\n",
    " return result\n",
    "A = [[1, 2], [3, 4]]\n",
    "B = [[5, 6], [7, 8]]\n",
    "print(multiply_matrices(A,B))"
   ]
  },
  {
   "cell_type": "code",
   "execution_count": 7,
   "id": "4dbe4773-1c1d-4410-959a-f7685a631bd1",
   "metadata": {},
   "outputs": [
    {
     "name": "stdout",
     "output_type": "stream",
     "text": [
      "7.810249675906654\n"
     ]
    }
   ],
   "source": [
    "#7.Given coordinates (x1,y1),(x2,y2) find the distance between two points\n",
    "\n",
    "import math\n",
    "\n",
    "def distance(x1,y1,x2,y2):\n",
    " return math.sqrt((x2-x1)**2+(y2-y1)**2)\n",
    "print(distance(1,2,6,8))"
   ]
  },
  {
   "cell_type": "code",
   "execution_count": 1,
   "id": "73bb246c-4f67-4496-ba8c-32d84c20970a",
   "metadata": {},
   "outputs": [
    {
     "name": "stdin",
     "output_type": "stream",
     "text": [
      "Enter a character: a\n"
     ]
    },
    {
     "name": "stdout",
     "output_type": "stream",
     "text": [
      "Lower case letter\n"
     ]
    }
   ],
   "source": [
    "#8.Write a program to check whether the given input is a digit,lowercase character, uppercase character or special character(use if else if ladder)\n",
    "\n",
    "ch=input(\"Enter a character:\")\n",
    "if '0'<=ch<='9':\n",
    "    print('Digit')\n",
    "elif 'a'<=ch<='z':\n",
    "    print('Lower case letter')\n",
    "elif 'A'<=ch<='Z':\n",
    "    print('Upper cse letter')\n",
    "else:\n",
    "    print('Special character')"
   ]
  },
  {
   "cell_type": "code",
   "execution_count": 9,
   "id": "6eceed3b-a70b-4889-8e56-bdec76b93544",
   "metadata": {},
   "outputs": [
    {
     "name": "stdout",
     "output_type": "stream",
     "text": [
      "True\n"
     ]
    }
   ],
   "source": [
    "#9.Write a function called has_duplicates that takes a list and returns True if any element appears more than once.\n",
    "\n",
    "def has_duplicates(lst):\n",
    "    return len(lst) !=len(set(lst))\n",
    "print( has_duplicates([1, 2, 3, 4, 1]))"
   ]
  },
  {
   "cell_type": "code",
   "execution_count": 14,
   "id": "e48e913a-e2d9-479d-8430-7afce4adfa95",
   "metadata": {},
   "outputs": [
    {
     "name": "stdout",
     "output_type": "stream",
     "text": [
      "[1, 4, 9, 16]\n"
     ]
    }
   ],
   "source": [
    "#10.Square all numbers in a lost using list comprehension.\n",
    "numbers= [1,2,3,4]\n",
    "squared_numbers = [x**2 for x in numbers]\n",
    "print(squared_numbers )\n",
    "\n",
    "\n"
   ]
  },
  {
   "cell_type": "code",
   "execution_count": 5,
   "id": "be5e7278-cf22-43ba-88d0-a483ca58b40b",
   "metadata": {},
   "outputs": [
    {
     "name": "stdout",
     "output_type": "stream",
     "text": [
      "9\n"
     ]
    }
   ],
   "source": [
    "#11.Find the maximum number in a list without using max(\n",
    "\n",
    "def find_max(lst):\n",
    "    max_val=lst[0]\n",
    "    for num in lst:\n",
    "      if num>max_val:\n",
    "          max_val=num\n",
    "    return max_val\n",
    "\n",
    "print(find_max([1,4,2,9,7]))"
   ]
  },
  {
   "cell_type": "code",
   "execution_count": 7,
   "id": "d643e920-994d-43f1-9f21-057972ff5e01",
   "metadata": {},
   "outputs": [
    {
     "name": "stdout",
     "output_type": "stream",
     "text": [
      "[2, 6]\n"
     ]
    }
   ],
   "source": [
    "#12.Given a list of numbers,use list comprehension to create a new list containing only the even number\n",
    "numbers=[1,2,3,5,6]\n",
    "even_numbers=[x for x in numbers if x%2==0]\n",
    "print(even_numbers)"
   ]
  },
  {
   "cell_type": "code",
   "execution_count": 53,
   "id": "0df4a0a7-6918-48d4-81ab-af103f8f01de",
   "metadata": {},
   "outputs": [
    {
     "name": "stdin",
     "output_type": "stream",
     "text": [
      "Enter number(0 to stop): 8\n",
      "Enter number(0 to stop): 6\n",
      "Enter number(0 to stop): 4\n",
      "Enter number(0 to stop): 0\n"
     ]
    },
    {
     "name": "stdout",
     "output_type": "stream",
     "text": [
      "Sum: 18\n",
      "Average: 6.0\n",
      "Maximum: 8\n",
      "Minimum: 4\n",
      "Standard Deviation: 2.0\n"
     ]
    }
   ],
   "source": [
    "#13.Write a program that keeps taking numbers from the user until they enter 0.then prints the total sum,average,maximum,minimum and standard deviation.\n",
    "\n",
    "\n",
    "import statistics\n",
    "nums=[]\n",
    "while True:\n",
    "    n=int(input(\"Enter number(0 to stop):\"))\n",
    "    if n==0:\n",
    "        break\n",
    "    nums.append(n)\n",
    "print(\"Sum:\",sum(nums))\n",
    "print(\"Average:\",sum(nums)/len(nums))\n",
    "print(\"Maximum:\",max(nums))\n",
    "print(\"Minimum:\",min(nums))\n",
    "print( \"Standard Deviation:\",statistics.stdev(nums) if len(nums)>1 else 0)"
   ]
  },
  {
   "cell_type": "code",
   "execution_count": 33,
   "id": "318cbe3a-95df-49c8-ba0e-944ab1be1a25",
   "metadata": {},
   "outputs": [
    {
     "name": "stdout",
     "output_type": "stream",
     "text": [
      "True\n"
     ]
    }
   ],
   "source": [
    "#14.Write a function called has_duplicates that takes a list and returns True if any element appears more than once.\n",
    "\n",
    "def has_duplicates(lst):\n",
    "    return len(lst) !=len(set(lst))\n",
    "print( has_duplicates([1, 8, 3, 9, 1]))"
   ]
  },
  {
   "cell_type": "code",
   "execution_count": 35,
   "id": "6ff3c91b-f172-4d9d-854f-f12b30167e68",
   "metadata": {},
   "outputs": [
    {
     "name": "stdout",
     "output_type": "stream",
     "text": [
      "[1, 64, 1089, 16]\n"
     ]
    }
   ],
   "source": [
    "#15.Square all numbers in a list using list comprehension\n",
    "\n",
    "numbers= [1,8,33,4]\n",
    "squared_numbers = [x**2 for x in numbers]\n",
    "print(squared_numbers )"
   ]
  },
  {
   "cell_type": "code",
   "execution_count": 39,
   "id": "0f1e6222-b063-45e8-b5b8-16d81d68f4bb",
   "metadata": {},
   "outputs": [
    {
     "name": "stdout",
     "output_type": "stream",
     "text": [
      "Even: [2, 4, 6, 8]\n",
      "Odd: [1, 3, 7]\n"
     ]
    }
   ],
   "source": [
    "#16.Find the odd, even numbers in a list\n",
    "\n",
    "numbers=[1,2,3,4,6,7,8]\n",
    "even=[x for x in numbers id x%2==0]\n",
    "odd=[x for x in numbers if x%2 !=0]\n",
    "print(\"Even:\",even)\n",
    "print(\"Odd:\",odd)"
   ]
  },
  {
   "cell_type": "code",
   "execution_count": 45,
   "id": "1b0a770f-1896-4041-95f6-81450e16abd2",
   "metadata": {},
   "outputs": [
    {
     "name": "stdout",
     "output_type": "stream",
     "text": [
      "Even: [2, 4, 6, 8]\n"
     ]
    }
   ],
   "source": [
    "#17.Given a list of numbers, use list comprehension to create a new list containing the even numbers\n",
    "\n",
    "numbers=[1,2,3,4,6,7,8]\n",
    "even=[x for x in numbers if x%2==0]\n",
    "print(\"Even:\",even)"
   ]
  },
  {
   "cell_type": "code",
   "execution_count": 51,
   "id": "15932cd4-f619-4e5c-9430-fe9ac08b4858",
   "metadata": {
    "scrolled": true
   },
   "outputs": [
    {
     "name": "stdin",
     "output_type": "stream",
     "text": [
      "Enter number(0 to stop): 6\n",
      "Enter number(0 to stop): 89\n",
      "Enter number(0 to stop): 90\n",
      "Enter number(0 to stop): 0\n"
     ]
    },
    {
     "name": "stdout",
     "output_type": "stream",
     "text": [
      "Sum: 185\n",
      "Average: 61.666666666666664\n",
      "Maximum: 90\n",
      "Minimum: 6\n",
      "Standard Deviation: 48.21134029803915\n"
     ]
    }
   ],
   "source": [
    "#18.Write a program that keeps taking numbers from the user until they enter 0.then prints the total sum,average,maximum,minimum and standard deviation\n",
    "\n",
    "import statistics\n",
    "nums=[]\n",
    "while True:\n",
    "    n=int(input(\"Enter number(0 to stop):\"))\n",
    "    if n==0:\n",
    "        break\n",
    "    nums.append(n)\n",
    "print(\"Sum:\",sum(nums))\n",
    "print(\"Average:\",sum(nums)/len(nums))\n",
    "print(\"Maximum:\",max(nums))\n",
    "print(\"Minimum:\",min(nums))\n",
    "print( \"Standard Deviation:\",statistics.stdev(nums) if len(nums)>1 else 0)"
   ]
  },
  {
   "cell_type": "code",
   "execution_count": 1,
   "id": "32baf617-3a53-4327-bb3a-c69fc731b3fe",
   "metadata": {},
   "outputs": [
    {
     "name": "stdout",
     "output_type": "stream",
     "text": [
      "85\n"
     ]
    }
   ],
   "source": [
    "#19. Given a list of words, how can you count the frequency of each word using a dictionary.\n",
    "\n",
    "\n",
    "def word_frequency(words):\n",
    "    freq={}\n",
    "    for word un words:\n",
    "      if word in freq:\n",
    "        freq[word]+=1\n",
    "      else:\n",
    "          freq[word]=1\n",
    "\n",
    "return freq\n",
    "words=['apple','banana','apple','orange','banana','apple']\n",
    "print(word_frequency(words))\n"
   ]
  },
  {
   "cell_type": "code",
   "execution_count": 3,
   "id": "c91c83c2-286b-448d-87ef-cf936e7fd8af",
   "metadata": {},
   "outputs": [
    {
     "name": "stdout",
     "output_type": "stream",
     "text": [
      "85\n"
     ]
    }
   ],
   "source": [
    "#20.Given a nested dictionary student={'name':'John',:grades':{'math':90,'science ':85}},how would you access John's science grade.\n",
    "\n",
    "student={'name':'John','grades':{'math':90,'science':85}}\n",
    "science_grade=student['grades']['science']\n",
    "print(science_grade)"
   ]
  },
  {
   "cell_type": "code",
   "execution_count": 1,
   "id": "a25c7e53-6265-478e-96a9-104c3a561dd3",
   "metadata": {},
   "outputs": [
    {
     "name": "stdout",
     "output_type": "stream",
     "text": [
      "True\n"
     ]
    }
   ],
   "source": [
    "#21.Validate credit card numbers (16 digits,may have hyphens of spaces as separators,must start with 4,5 or 6)\n",
    "\n",
    "import re\n",
    "def validate_card(number):\n",
    "    pattern=r'^[456]\\d{3}(-?\\d{4}){3}$'\n",
    "    return bool(re.match(pattern,number))\n",
    "print(validate_card(\"4567-1234-5678-9012\"))"
   ]
  },
  {
   "cell_type": "code",
   "execution_count": 3,
   "id": "7117dd48-f906-4909-a56e-f35516fd26d8",
   "metadata": {},
   "outputs": [
    {
     "name": "stdout",
     "output_type": "stream",
     "text": [
      "True\n"
     ]
    }
   ],
   "source": [
    "#22.Write a regular expression to represent all 10-digit mobile numbers\n",
    "\n",
    "import re\n",
    "pattern=r'^\\d{10}$'\n",
    "print(bool(re.match(pattern, \"9876543210\")))"
   ]
  },
  {
   "cell_type": "code",
   "execution_count": 5,
   "id": "1543775d-f790-418d-9800-3d62b27a4d8c",
   "metadata": {},
   "outputs": [
    {
     "name": "stdout",
     "output_type": "stream",
     "text": [
      "Hello world  Hstu\n"
     ]
    }
   ],
   "source": [
    "#23.How do you use re.sub() to remove all special characters from a string,leaving only alphanumeric and spaces?\n",
    "\n",
    "import re\n",
    "def remove_special_chars(s):\n",
    "    return re.sub(r'[^a-zA-Z0-9]', ' ',s)\n",
    "print(remove_special_chars(\"Hello world @Hstu\"))\n"
   ]
  },
  {
   "cell_type": "code",
   "execution_count": 5,
   "id": "19a7bea6-b50d-43de-a95e-39f5004ab189",
   "metadata": {},
   "outputs": [
    {
     "name": "stdout",
     "output_type": "stream",
     "text": [
      "50 30\n"
     ]
    }
   ],
   "source": [
    "#24.How do you define a class rectangle with methods to compute area and perimeter and use it with sample inputs\n",
    "\n",
    "class Rectangle:\n",
    "    def __init__(self,width,height):\n",
    "        self.width=width\n",
    "        self.height=height\n",
    "    def area(self):\n",
    "        return self.width* self.height\n",
    "    def perimeter(self):\n",
    "        return 2*(self.width + self.height)\n",
    "\n",
    "rect = Rectangle(5, 10)\n",
    "print(rect.area(),rect.perimeter())"
   ]
  },
  {
   "cell_type": "code",
   "execution_count": 22,
   "id": "5e710f5a-9d39-4e41-95c7-ee0a8aa8e772",
   "metadata": {},
   "outputs": [
    {
     "name": "stdout",
     "output_type": "stream",
     "text": [
      "120\n"
     ]
    }
   ],
   "source": [
    "#25.Write a class Bankaccount with deposit() and withdraw() methods.How do you prevent the balance from going negative.\n",
    "\n",
    "class bankaccount:\n",
    "    def __init__(self, balance=0):\n",
    "      self.balance = balance\n",
    "    \n",
    "    def deposit(self, amount):\n",
    "      self.balance +=amount\n",
    "    \n",
    "    def withdraw(self,amount):\n",
    "        if amount<=self.balance:\n",
    "            self.balance-=amount\n",
    "        else:\n",
    "            print(\"Insufficient funds\")\n",
    "            \n",
    "account = bankaccount(100)\n",
    "account.deposit(50)\n",
    "account.withdraw(30)\n",
    "print(account.balance)\n",
    "        "
   ]
  },
  {
   "cell_type": "code",
   "execution_count": null,
   "id": "d5e94885-abf0-4a40-aa42-917e71150c48",
   "metadata": {},
   "outputs": [],
   "source": []
  },
  {
   "cell_type": "code",
   "execution_count": null,
   "id": "ae421169-2887-40c0-8dd2-83e124515eb0",
   "metadata": {},
   "outputs": [],
   "source": []
  }
 ],
 "metadata": {
  "kernelspec": {
   "display_name": "Python [conda env:base] *",
   "language": "python",
   "name": "conda-base-py"
  },
  "language_info": {
   "codemirror_mode": {
    "name": "ipython",
    "version": 3
   },
   "file_extension": ".py",
   "mimetype": "text/x-python",
   "name": "python",
   "nbconvert_exporter": "python",
   "pygments_lexer": "ipython3",
   "version": "3.12.7"
  }
 },
 "nbformat": 4,
 "nbformat_minor": 5
}
